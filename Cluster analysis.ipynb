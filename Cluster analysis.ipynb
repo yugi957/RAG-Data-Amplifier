{
 "cells": [
  {
   "cell_type": "code",
   "execution_count": 59,
   "id": "f03d4294",
   "metadata": {},
   "outputs": [],
   "source": [
    "import random\n",
    "import pandas as pd\n",
    "import torch\n",
    "from transformers import AutoTokenizer, AutoModel\n",
    "import chromadb\n",
    "from chromadb.utils import embedding_functions\n",
    "from sklearn.cluster import KMeans\n",
    "from sklearn.manifold import TSNE\n",
    "import matplotlib.pyplot as plt\n",
    "import numpy as np\n",
    "from collections import Counter"
   ]
  },
  {
   "cell_type": "code",
   "execution_count": 21,
   "id": "a2019cf6",
   "metadata": {},
   "outputs": [],
   "source": [
    "CHROMA_DATA_PATH = \"chroma_data/\"\n",
    "EMBED_MODEL = \"sentence-transformers/all-MiniLM-L6-v2\"\n",
    "COLLECTION_NAME = \"full_docs\"\n",
    "NUM_CLUSTERS = 5  # Adjust the number of clusters as needed\n",
    "TSNE_PERPLEXITY = 30\n",
    "TSNE_N_COMPONENTS = 2\n"
   ]
  },
  {
   "cell_type": "code",
   "execution_count": 22,
   "id": "b8195e00",
   "metadata": {},
   "outputs": [],
   "source": [
    "# Initialize Chroma client and collection\n",
    "client = chromadb.PersistentClient(path=CHROMA_DATA_PATH)\n",
    "embedding_func = embedding_functions.SentenceTransformerEmbeddingFunction(\n",
    "    model_name=EMBED_MODEL\n",
    ")\n",
    "\n",
    "collection = client.get_collection(\n",
    "    name=COLLECTION_NAME,\n",
    ")"
   ]
  },
  {
   "cell_type": "code",
   "execution_count": 48,
   "id": "7887541a",
   "metadata": {},
   "outputs": [],
   "source": [
    "# Function to get a random sample of n results\n",
    "def get_random_sample(collection, n_results):\n",
    "    existing_count = collection.count()\n",
    "    all_ids = collection.get(include=[])['ids']\n",
    "    # print(all_ids)\n",
    "    \n",
    "    if n_results > existing_count:\n",
    "        n_results = existing_count  # Limit to the number of existing entries\n",
    "\n",
    "    random_ids = random.sample(all_ids, n_results)\n",
    "    random_documents = collection.get(ids=random_ids, include=['embeddings', 'metadatas'])\n",
    "    # random_documents = collection.get(ids=random_ids)\n",
    "\n",
    "    return random_documents"
   ]
  },
  {
   "cell_type": "code",
   "execution_count": 49,
   "id": "6608626c",
   "metadata": {},
   "outputs": [
    {
     "name": "stdout",
     "output_type": "stream",
     "text": [
      "1000\n",
      "{'music': 27, 'starwars': 27, 'conservative': 26, 'funny': 24, 'askhistorians': 24}\n",
      "Total embeddings before filtering: 1000\n",
      "Total embeddings after filtering: 128\n"
     ]
    }
   ],
   "source": [
    "# Get all embeddings\n",
    "data = get_random_sample(collection, 1000)\n",
    "embeddings = data['embeddings']\n",
    "print(len(embeddings))\n",
    "metadata = data['metadatas']\n",
    "# print(metadata[0:5])\n",
    "subreddits = {}\n",
    "for meta in metadata:\n",
    "    if(meta['subreddit'] in subreddits): subreddits[meta['subreddit']] += 1\n",
    "    else: subreddits[meta['subreddit']] = 1\n",
    "sorted_subreddits = sorted(subreddits.items(), key=lambda item: item[1], reverse=True)\n",
    "top_n_subreddits = {k: v for k, v in sorted_subreddits[:5]}\n",
    "print(top_n_subreddits)\n",
    "# Filter embeddings and metadata to include only those from top n subreddits\n",
    "filtered_embeddings = [emb for emb, meta in zip(embeddings, metadata) if meta['subreddit'] in top_n_subreddits]\n",
    "filtered_metadata = [meta for meta in metadata if meta['subreddit'] in top_n_subreddits]\n",
    "\n",
    "print(f\"Total embeddings before filtering: {len(embeddings)}\")\n",
    "print(f\"Total embeddings after filtering: {len(filtered_embeddings)}\")"
   ]
  },
  {
   "cell_type": "code",
   "execution_count": 50,
   "id": "02594390",
   "metadata": {},
   "outputs": [],
   "source": [
    "# Convert embeddings to a NumPy array\n",
    "embeddings_array = np.array(filtered_embeddings)"
   ]
  },
  {
   "cell_type": "code",
   "execution_count": 61,
   "id": "92ba4d5b",
   "metadata": {},
   "outputs": [
    {
     "name": "stderr",
     "output_type": "stream",
     "text": [
      "C:\\Users\\yugi9\\.conda\\envs\\RAGDA\\Lib\\site-packages\\sklearn\\cluster\\_kmeans.py:1426: UserWarning: KMeans is known to have a memory leak on Windows with MKL, when there are less chunks than available threads. You can avoid it by setting the environment variable OMP_NUM_THREADS=1.\n",
      "  warnings.warn(\n"
     ]
    }
   ],
   "source": [
    "# Perform K-means clustering\n",
    "kmeans = KMeans(n_clusters=NUM_CLUSTERS, random_state=42)\n",
    "kmeans.fit(embeddings_array)\n",
    "labels = kmeans.labels_"
   ]
  },
  {
   "cell_type": "code",
   "execution_count": 62,
   "id": "9ea5169a",
   "metadata": {},
   "outputs": [],
   "source": [
    "# Perform t-SNE dimensionality reduction\n",
    "tsne = TSNE(n_components=TSNE_N_COMPONENTS, perplexity=TSNE_PERPLEXITY, random_state=42)\n",
    "tsne_results = tsne.fit_transform(embeddings_array)"
   ]
  },
  {
   "cell_type": "code",
   "execution_count": 63,
   "id": "58296432",
   "metadata": {},
   "outputs": [],
   "source": [
    "# Create a DataFrame for visualization\n",
    "df = pd.DataFrame(tsne_results, columns=['tsne_1', 'tsne_2'])\n",
    "df['cluster'] = labels\n",
    "df['subreddit'] = [meta['subreddit'] for meta in filtered_metadata]"
   ]
  },
  {
   "cell_type": "code",
   "execution_count": 64,
   "id": "00e94b19",
   "metadata": {},
   "outputs": [
    {
     "name": "stdout",
     "output_type": "stream",
     "text": [
      "Cluster analysis by subreddit:\n",
      "Cluster 0:\n",
      "  askhistorians: 10\n",
      "  conservative: 2\n",
      "  music: 1\n",
      "  starwars: 2\n",
      "Cluster 1:\n",
      "  funny: 15\n",
      "  conservative: 1\n",
      "  music: 15\n",
      "  starwars: 9\n",
      "Cluster 2:\n",
      "  funny: 3\n",
      "  askhistorians: 6\n",
      "  conservative: 7\n",
      "  music: 1\n",
      "  starwars: 8\n",
      "Cluster 3:\n",
      "  funny: 2\n",
      "  music: 2\n",
      "  starwars: 2\n",
      "Cluster 4:\n",
      "  funny: 4\n",
      "  askhistorians: 8\n",
      "  conservative: 16\n",
      "  music: 8\n",
      "  starwars: 6\n"
     ]
    }
   ],
   "source": [
    "# Analyze the distribution of subreddits within each cluster\n",
    "cluster_analysis = {}\n",
    "for cluster in range(NUM_CLUSTERS):\n",
    "    cluster_subreddits = df[df['cluster'] == cluster]['subreddit']\n",
    "    subreddit_counts = Counter(cluster_subreddits)\n",
    "    cluster_analysis[cluster] = subreddit_counts\n",
    "\n",
    "print(\"Cluster analysis by subreddit:\")\n",
    "for cluster, counts in cluster_analysis.items():\n",
    "    print(f\"Cluster {cluster}:\")\n",
    "    for subreddit, count in counts.items():\n",
    "        print(f\"  {subreddit}: {count}\")"
   ]
  },
  {
   "cell_type": "code",
   "execution_count": 65,
   "id": "ceeda257",
   "metadata": {},
   "outputs": [
    {
     "data": {
      "image/png": "[encoded data removed]",
      "text/plain": [
       "<Figure size 1000x700 with 1 Axes>"
      ]
     },
     "metadata": {},
     "output_type": "display_data"
    }
   ],
   "source": [
    "# Plot t-SNE results\n",
    "plt.figure(figsize=(10, 7))\n",
    "for cluster in range(NUM_CLUSTERS):\n",
    "    cluster_data = df[df['cluster'] == cluster]\n",
    "    plt.scatter(cluster_data['tsne_1'], cluster_data['tsne_2'], label=f'Cluster {cluster}', s=10)\n",
    "\n",
    "plt.title('t-SNE visualization of clustered embeddings')\n",
    "plt.xlabel('t-SNE dimension 1')\n",
    "plt.ylabel('t-SNE dimension 2')\n",
    "plt.legend()\n",
    "plt.show()"
   ]
  },
  {
   "cell_type": "code",
   "execution_count": null,
   "id": "fb830534",
   "metadata": {},
   "outputs": [],
   "source": []
  }
 ],
 "metadata": {
  "kernelspec": {
   "display_name": "RAGDA",
   "language": "python",
   "name": "ragda"
  },
  "language_info": {
   "codemirror_mode": {
    "name": "ipython",
    "version": 3
   },
   "file_extension": ".py",
   "mimetype": "text/x-python",
   "name": "python",
   "nbconvert_exporter": "python",
   "pygments_lexer": "ipython3",
   "version": "3.12.4"
  }
 },
 "nbformat": 4,
 "nbformat_minor": 5
}
